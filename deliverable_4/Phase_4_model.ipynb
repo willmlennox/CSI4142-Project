{
 "cells": [
  {
   "cell_type": "markdown",
   "metadata": {},
   "source": [
    "# CSI4142 Project Phase 4: Data Mining\n",
    "## Group 26\n",
    "- Colin McFarlane 300074534 \n",
    "- Will Lennox 300071951\n",
    "\n",
    "Classification of Development Index using 20 attributes from world bank dataset \n",
    "- 1 = Developed\n",
    "- 2 = Developing\n",
    "- 3 = Underdeveloped\n"
   ]
  },
  {
   "cell_type": "code",
   "execution_count": 35,
   "metadata": {},
   "outputs": [],
   "source": [
    "import pandas as pd\n",
    "import numpy as np\n",
    "import time\n",
    "\n",
    "from sklearn.model_selection import GridSearchCV\n",
    "from sklearn.preprocessing import MinMaxScaler\n",
    "from sklearn.impute import KNNImputer\n",
    "from sklearn.pipeline import Pipeline\n",
    "from sklearn.compose import ColumnTransformer\n",
    "from sklearn.ensemble import RandomForestClassifier\n",
    "from sklearn.tree import DecisionTreeClassifier\n",
    "from sklearn.tree import export_text\n",
    "from sklearn.ensemble import GradientBoostingClassifier\n",
    "from sklearn.metrics import classification_report\n",
    "from sklearn.metrics import confusion_matrix\n",
    "from sklearn.svm import OneClassSVM\n",
    "\n",
    "from imblearn.over_sampling import SMOTE\n",
    "\n",
    "from collections import Counter\n",
    "\n",
    "import matplotlib.pyplot as plt\n",
    "\n",
    "global_seed = 26\n",
    "\n",
    "np.random.seed(global_seed)"
   ]
  },
  {
   "cell_type": "code",
   "execution_count": 36,
   "metadata": {},
   "outputs": [
    {
     "name": "stdout",
     "output_type": "stream",
     "text": [
      "Loaded data successfully\n",
      "Dimensionality: \n",
      " (144, 22)\n"
     ]
    }
   ],
   "source": [
    "data = pd.read_csv('../raw_data/PHASE_4_DATA.csv')\n",
    "print(\"Loaded data successfully\")\n",
    "print(\"Dimensionality: \\n\", data.shape)\n"
   ]
  },
  {
   "cell_type": "code",
   "execution_count": 37,
   "metadata": {},
   "outputs": [
    {
     "name": "stdout",
     "output_type": "stream",
     "text": [
      "Before oversample\n",
      "(114, 20)\n",
      "Counter({2: 52, 3: 38, 1: 24})\n",
      "After oversample\n",
      "(156, 20)\n",
      "Counter({3: 52, 2: 52, 1: 52})\n"
     ]
    }
   ],
   "source": [
    "training_data = data[data['split'] == 'train']\n",
    "\n",
    "data_features = training_data.drop(['Development Index'], axis=1)\n",
    "data_features = data_features.drop(\"split\", axis=1)\n",
    "\n",
    "data_labels = training_data['Development Index'].copy()\n",
    "\n",
    "feature_pipeline = Pipeline([\n",
    "    ('imputer', KNNImputer()),\n",
    "    ('scaler', MinMaxScaler()),\n",
    "])\n",
    "\n",
    "full_pipeline = ColumnTransformer([\n",
    "    (\"data_features\", feature_pipeline, data_features.columns),\n",
    "])\n",
    "\n",
    "data_prepared = full_pipeline.fit_transform(data_features)\n",
    "\n",
    "print(\"Before oversample\")\n",
    "print(data_prepared.shape)\n",
    "print(Counter(data_labels))\n",
    "\n",
    "\n",
    "oversampler = SMOTE(random_state=global_seed)\n",
    "oversampled_features, oversampled_labels = oversampler.fit_resample(data_prepared, data_labels)\n",
    "\n",
    "print(\"After oversample\")\n",
    "\n",
    "print(oversampled_features.shape)\n",
    "print(Counter(oversampled_labels))\n"
   ]
  },
  {
   "cell_type": "code",
   "execution_count": 38,
   "metadata": {},
   "outputs": [],
   "source": [
    "model_decision_tree = DecisionTreeClassifier()\n",
    "\n",
    "model_gradient_boosting = GradientBoostingClassifier()\n",
    "\n",
    "model_random_forest = RandomForestClassifier()"
   ]
  },
  {
   "cell_type": "code",
   "execution_count": 39,
   "metadata": {},
   "outputs": [
    {
     "name": "stdout",
     "output_type": "stream",
     "text": [
      "Decision Tree Fit Time: 0.11400103569030762\n",
      "Gradient Boosting Fit Time: 11.15217900276184\n",
      "Random Forest Fit Time: 7.026682138442993\n",
      "\n",
      "Best Params: \n",
      "{'criterion': 'gini', 'max_depth': None, 'min_samples_split': 2}\n",
      "{'criterion': 'friedman_mse', 'max_depth': 1, 'n_estimators': 110}\n",
      "{'criterion': 'gini', 'max_depth': None, 'n_estimators': 110}\n",
      "\n",
      "Best Estimator: \n",
      "DecisionTreeClassifier()\n",
      "GradientBoostingClassifier(max_depth=1, n_estimators=110)\n",
      "RandomForestClassifier(n_estimators=110)\n",
      "\n",
      "Best Score: \n",
      "0.9806451612903226\n",
      "1.0\n",
      "0.9808467741935484\n"
     ]
    }
   ],
   "source": [
    "# Hyperparameter tuning\n",
    "\n",
    "decision_tree_parameters = {'min_samples_split': (2, 3, 4), \"max_depth\": (None, 1 , 2), 'criterion':('gini', 'entropy')}\n",
    "\n",
    "gradient_boosting_parameters = {'n_estimators': (90, 100, 110), 'max_depth': (None, 1 , 2), 'criterion':('friedman_mse', 'squared_error')}\n",
    "\n",
    "random_forest_parameters = {'n_estimators': (90, 100, 110), 'max_depth': (None, 1 , 2), 'criterion':('gini', 'entropy')}\n",
    "\n",
    "\n",
    "grid_search_decision_tree = GridSearchCV(estimator=model_decision_tree, param_grid=decision_tree_parameters)\n",
    "grid_search_gradient_boosting = GridSearchCV(estimator=model_gradient_boosting, param_grid=gradient_boosting_parameters)\n",
    "grid_search_random_forest = GridSearchCV(estimator=model_random_forest, param_grid=random_forest_parameters)\n",
    "\n",
    "start_time = time.time()\n",
    "grid_search_decision_tree.fit(oversampled_features, oversampled_labels)\n",
    "end_time = time.time()\n",
    "print(\"Decision Tree Fit Time: \" + str(end_time-start_time))\n",
    "\n",
    "\n",
    "start_time = time.time()\n",
    "grid_search_gradient_boosting.fit(oversampled_features, oversampled_labels)\n",
    "end_time = time.time()\n",
    "print(\"Gradient Boosting Fit Time: \" + str(end_time-start_time))\n",
    "\n",
    "start_time = time.time()\n",
    "grid_search_random_forest.fit(oversampled_features, oversampled_labels)\n",
    "end_time = time.time()\n",
    "print(\"Random Forest Fit Time: \" + str(end_time-start_time))\n",
    "\n",
    "\n",
    "print(\"\\nBest Params: \")\n",
    "print(grid_search_decision_tree.best_params_)\n",
    "print(grid_search_gradient_boosting.best_params_)\n",
    "print(grid_search_random_forest.best_params_)\n",
    "\n",
    "\n",
    "print(\"\\nBest Estimator: \")\n",
    "print(grid_search_decision_tree.best_estimator_)\n",
    "print(grid_search_gradient_boosting.best_estimator_)\n",
    "print(grid_search_random_forest.best_estimator_)\n",
    "\n",
    "print(\"\\nBest Score: \")\n",
    "print(grid_search_decision_tree.best_score_)\n",
    "print(grid_search_gradient_boosting.best_score_)\n",
    "print(grid_search_random_forest.best_score_)\n"
   ]
  },
  {
   "cell_type": "code",
   "execution_count": 40,
   "metadata": {},
   "outputs": [],
   "source": [
    "testing_data = data[data['split'] == 'test']\n",
    "\n",
    "test_data_features = testing_data.drop(['Development Index'], axis=1)\n",
    "test_data_features = test_data_features.drop(\"split\", axis=1)\n",
    "\n",
    "test_data_labels = testing_data['Development Index'].copy()\n",
    "\n",
    "test_data_prepared = full_pipeline.fit_transform(test_data_features)"
   ]
  },
  {
   "cell_type": "code",
   "execution_count": 41,
   "metadata": {},
   "outputs": [
    {
     "name": "stdout",
     "output_type": "stream",
     "text": [
      "\n",
      "DECISION TREE MODEL: \n",
      "[[ 8  0  0]\n",
      " [ 0 12  0]\n",
      " [ 0  2  8]]\n",
      "              precision    recall  f1-score   support\n",
      "\n",
      "           1       1.00      1.00      1.00         8\n",
      "           2       0.86      1.00      0.92        12\n",
      "           3       1.00      0.80      0.89        10\n",
      "\n",
      "    accuracy                           0.93        30\n",
      "   macro avg       0.95      0.93      0.94        30\n",
      "weighted avg       0.94      0.93      0.93        30\n",
      "\n",
      "\n",
      "GRADIENT BOOSTING MODEL: \n",
      "[[ 8  0  0]\n",
      " [ 0 12  0]\n",
      " [ 0  1  9]]\n",
      "              precision    recall  f1-score   support\n",
      "\n",
      "           1       1.00      1.00      1.00         8\n",
      "           2       0.92      1.00      0.96        12\n",
      "           3       1.00      0.90      0.95        10\n",
      "\n",
      "    accuracy                           0.97        30\n",
      "   macro avg       0.97      0.97      0.97        30\n",
      "weighted avg       0.97      0.97      0.97        30\n",
      "\n",
      "\n",
      "RANDOM FOREST MODEL: \n",
      "[[ 8  0  0]\n",
      " [ 0 12  0]\n",
      " [ 0  0 10]]\n",
      "              precision    recall  f1-score   support\n",
      "\n",
      "           1       1.00      1.00      1.00         8\n",
      "           2       1.00      1.00      1.00        12\n",
      "           3       1.00      1.00      1.00        10\n",
      "\n",
      "    accuracy                           1.00        30\n",
      "   macro avg       1.00      1.00      1.00        30\n",
      "weighted avg       1.00      1.00      1.00        30\n",
      "\n"
     ]
    }
   ],
   "source": [
    "dt_pred = grid_search_decision_tree.predict(test_data_prepared)\n",
    "gb_pred = grid_search_gradient_boosting.predict(test_data_prepared)\n",
    "rf_pred = grid_search_random_forest.predict(test_data_prepared)\n",
    "\n",
    "print(\"\\nDECISION TREE MODEL: \")\n",
    "\n",
    "\n",
    "c_matrix = confusion_matrix(test_data_labels, dt_pred)\n",
    "print(c_matrix)\n",
    "\n",
    "report = classification_report(test_data_labels, dt_pred)\n",
    "print(report)\n",
    "\n",
    "print(\"\\nGRADIENT BOOSTING MODEL: \")\n",
    "\n",
    "c_matrix = confusion_matrix(test_data_labels, gb_pred)\n",
    "print(c_matrix)\n",
    "\n",
    "report = classification_report(test_data_labels, gb_pred)\n",
    "print(report)\n",
    "\n",
    "print(\"\\nRANDOM FOREST MODEL: \")\n",
    "\n",
    "\n",
    "c_matrix = confusion_matrix(test_data_labels, rf_pred)\n",
    "print(c_matrix)\n",
    "\n",
    "report = classification_report(test_data_labels, rf_pred)\n",
    "print(report)\n"
   ]
  },
  {
   "cell_type": "code",
   "execution_count": 42,
   "metadata": {},
   "outputs": [
    {
     "name": "stdout",
     "output_type": "stream",
     "text": [
      "|--- Literacy rate, adult male (% of males ages 15 and above) <= 0.92\n",
      "|   |--- GNI per capita, Atlas method (current US$) <= 0.05\n",
      "|   |   |--- School enrollment, primary, male (% gross) <= 0.55\n",
      "|   |   |   |--- People using at least basic sanitation services, rural (% of rural population) <= 0.88\n",
      "|   |   |   |   |--- class: 3\n",
      "|   |   |   |--- People using at least basic sanitation services, rural (% of rural population) >  0.88\n",
      "|   |   |   |   |--- class: 2\n",
      "|   |   |--- School enrollment, primary, male (% gross) >  0.55\n",
      "|   |   |   |--- class: 2\n",
      "|   |--- GNI per capita, Atlas method (current US$) >  0.05\n",
      "|   |   |--- class: 2\n",
      "|--- Literacy rate, adult male (% of males ages 15 and above) >  0.92\n",
      "|   |--- class: 1\n",
      "\n"
     ]
    }
   ],
   "source": [
    "column_names = data_features.columns.array\n",
    "r = export_text(grid_search_decision_tree.best_estimator_ , feature_names=column_names)\n",
    "print(r)"
   ]
  },
  {
   "cell_type": "code",
   "execution_count": 114,
   "metadata": {},
   "outputs": [
    {
     "name": "stdout",
     "output_type": "stream",
     "text": [
      "(30, 20)\n",
      "Number of training outliers\n",
      "56\n",
      "Number of testing outliers\n",
      "25\n"
     ]
    },
    {
     "data": {
      "image/png": "[encoded data removed]",
      "text/plain": [
       "<Figure size 432x288 with 1 Axes>"
      ]
     },
     "metadata": {
      "needs_background": "light"
     },
     "output_type": "display_data"
    }
   ],
   "source": [
    "svm = OneClassSVM()\n",
    "svm.fit(data_prepared)\n",
    "\n",
    "svm_pred_train = svm.predict(data_prepared)\n",
    "svm_pred_test = svm.predict(test_data_prepared)\n",
    "\n",
    "print(\"Number of training outliers\")\n",
    "print(len(data_prepared[svm_pred_train == -1, 0]))\n",
    "print(\"Number of testing outliers\")\n",
    "print(len(test_data_prepared[svm_pred_test == -1, 0]))\n",
    "\n",
    "a = plt.scatter(data_prepared[svm_pred_train == 1, 0], data_prepared[svm_pred_train == 1, 1], c=\"black\")\n",
    "b = plt.scatter(data_prepared[svm_pred_train == -1, 0], data_prepared[svm_pred_train == -1, 1], c=\"blue\")\n",
    "\n",
    "c = plt.scatter(test_data_prepared[svm_pred_test == 1, 0], test_data_prepared[svm_pred_test == 1, 1], c=\"grey\")\n",
    "d = plt.scatter(test_data_prepared[svm_pred_test == -1, 0], test_data_prepared[svm_pred_test == -1, 1], c=\"blue\")\n",
    "plt.legend([a,c,b], ['regular training observations', 'regular testing observations', 'abnormal observations'], bbox_to_anchor=(1.05, 1))\n",
    "\n",
    "plt.show()\n"
   ]
  }
 ],
 "metadata": {
  "interpreter": {
   "hash": "6058f081b72e69bd97dd8e06c77d27abf3f2bb140cf7a241160f678c988d3176"
  },
  "kernelspec": {
   "display_name": "Python 3.8.13 ('csi4106')",
   "language": "python",
   "name": "python3"
  },
  "language_info": {
   "codemirror_mode": {
    "name": "ipython",
    "version": 3
   },
   "file_extension": ".py",
   "mimetype": "text/x-python",
   "name": "python",
   "nbconvert_exporter": "python",
   "pygments_lexer": "ipython3",
   "version": "3.8.13"
  },
  "orig_nbformat": 4
 },
 "nbformat": 4,
 "nbformat_minor": 2
}
